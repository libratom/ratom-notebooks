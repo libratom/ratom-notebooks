{
 "cells": [
  {
   "cell_type": "code",
   "execution_count": null,
   "id": "21d31a74-2447-4ed1-b997-59c2f93b399c",
   "metadata": {},
   "outputs": [],
   "source": [
    "from pathlib import Path\n",
    "\n",
    "from prettytable import PrettyTable\n",
    "from sqlalchemy import create_engine\n",
    "from sqlalchemy.orm import sessionmaker\n",
    "\n",
    "from libratom.lib.database import db_session\n",
    "from libratom.models import HeaderField, HeaderFieldType, Message"
   ]
  },
  {
   "cell_type": "code",
   "execution_count": null,
   "id": "6bb48920-a596-4a89-a34e-4d693401df9d",
   "metadata": {},
   "outputs": [],
   "source": [
    "db_file_name = \"report.sqlite3\""
   ]
  },
  {
   "cell_type": "code",
   "execution_count": null,
   "id": "9a7e351e-cafa-4bf1-b8c4-12d8073014e3",
   "metadata": {},
   "outputs": [],
   "source": [
    "db_file = Path(db_file_name).resolve()\n",
    "db_file.unlink(missing_ok=True)"
   ]
  },
  {
   "cell_type": "markdown",
   "id": "81e82b47-7541-4edf-901c-ae6704649529",
   "metadata": {},
   "source": [
    "### Run command line tool"
   ]
  },
  {
   "cell_type": "code",
   "execution_count": null,
   "id": "57de7388-64b1-4ef8-b98f-7a9398afffb9",
   "metadata": {},
   "outputs": [],
   "source": [
    "!ratom report -mvp -o {db_file_name} data/RevisedEDRMv1_Complete/albert_meyers/"
   ]
  },
  {
   "cell_type": "markdown",
   "id": "714fbff9-ec69-44e4-9104-01e4ab5739c8",
   "metadata": {},
   "source": [
    "### Examine DB output"
   ]
  },
  {
   "cell_type": "markdown",
   "id": "a88f5946-c44d-4796-8b6e-6b92e8a89367",
   "metadata": {},
   "source": [
    "#### Using the ORM"
   ]
  },
  {
   "cell_type": "code",
   "execution_count": null,
   "id": "1fbca7d6-60fd-46d0-a017-367307aa61f0",
   "metadata": {},
   "outputs": [],
   "source": [
    "engine = create_engine(f\"sqlite:///{db_file}\")\n",
    "session = sessionmaker(bind=engine)()"
   ]
  },
  {
   "cell_type": "markdown",
   "id": "e7329782-f31a-4989-9790-b7219e62f037",
   "metadata": {},
   "source": [
    "See also: [db_session_from_cmd_out()](https://github.com/libratom/libratom/blob/0.6.0/libratom/lib/database.py#L55)"
   ]
  },
  {
   "cell_type": "code",
   "execution_count": null,
   "id": "14789c5a",
   "metadata": {},
   "outputs": [],
   "source": [
    "# Quick check on the total number of messages\n",
    "session.query(Message).count()"
   ]
  },
  {
   "cell_type": "code",
   "execution_count": null,
   "id": "70eba242",
   "metadata": {},
   "outputs": [],
   "source": [
    "# From here on we'll load DB table contents in memory\n",
    "# and work with them in Python for convenience\n",
    "messages, header_fields, header_field_types = session.query(Message).all(), session.query(HeaderField).all(), session.query(HeaderFieldType).all()"
   ]
  },
  {
   "cell_type": "code",
   "execution_count": null,
   "id": "4c80a373-7213-40f6-bc31-c07d978e0831",
   "metadata": {},
   "outputs": [],
   "source": [
    "# Total number of header fields\n",
    "len(header_fields)"
   ]
  },
  {
   "cell_type": "code",
   "execution_count": null,
   "id": "420eb08a",
   "metadata": {},
   "outputs": [],
   "source": [
    "# Header field count by type\n",
    "for type_ in header_field_types:\n",
    "    if count := len([field for field in header_fields if field.header_field_type == type_]):\n",
    "        print(f\"{type_.name}: {count}\")"
   ]
  },
  {
   "cell_type": "code",
   "execution_count": null,
   "id": "8953c5a7",
   "metadata": {},
   "outputs": [],
   "source": [
    "# Pick a given message\n",
    "message = session.query(Message).first()\n",
    "message.pff_identifier"
   ]
  },
  {
   "cell_type": "code",
   "execution_count": null,
   "id": "4fa57301",
   "metadata": {},
   "outputs": [],
   "source": [
    "# Raw header block from PST archive, for that message\n",
    "print(message.headers)"
   ]
  },
  {
   "cell_type": "code",
   "execution_count": null,
   "id": "c6c322c6",
   "metadata": {},
   "outputs": [],
   "source": [
    "# Header fields for that message\n",
    "results = PrettyTable(field_names=[\"name\", \"value\"], align=\"l\")\n",
    "\n",
    "for header in message.header_fields:\n",
    "    results.add_row([header.name, header.value])\n",
    "\n",
    "print(results)"
   ]
  },
  {
   "cell_type": "code",
   "execution_count": null,
   "id": "1a7de023",
   "metadata": {},
   "outputs": [],
   "source": [
    "# Any message with no header fields?\n",
    "[message.pff_identifier for message in messages if not message.header_fields]"
   ]
  },
  {
   "cell_type": "code",
   "execution_count": null,
   "id": "9787510f-226e-46e9-bd47-628eb8c2212c",
   "metadata": {},
   "outputs": [],
   "source": [
    "session.close()"
   ]
  },
  {
   "cell_type": "markdown",
   "id": "97bf95f2-a6ad-4604-86ac-17523bc80a92",
   "metadata": {},
   "source": [
    "#### Using direct SQL queries"
   ]
  },
  {
   "cell_type": "code",
   "execution_count": null,
   "id": "d148936e",
   "metadata": {},
   "outputs": [],
   "source": [
    "# Message count\n",
    "!sqlite3 -box {db_file} \"select count(*) as message_count from message;\""
   ]
  },
  {
   "cell_type": "code",
   "execution_count": null,
   "id": "daa70ee5-2049-4d06-b697-066b6130011f",
   "metadata": {},
   "outputs": [],
   "source": [
    "# Header field count\n",
    "!sqlite3 -box {db_file} \"select count(*) as header_count from header_field;\""
   ]
  },
  {
   "cell_type": "code",
   "execution_count": null,
   "id": "a23b63ad",
   "metadata": {},
   "outputs": [],
   "source": [
    "# Header field count by type\n",
    "!sqlite3 -box {db_file} \"\\\n",
    "select count(*) as header_count, name \\\n",
    "from header_field \\\n",
    "inner join header_field_type \\\n",
    "on header_field_type.id = header_field.header_field_type_id \\\n",
    "group by header_field_type_id; \\\n",
    "\""
   ]
  },
  {
   "cell_type": "code",
   "execution_count": null,
   "id": "947e8fa0",
   "metadata": {},
   "outputs": [],
   "source": [
    "# Pick a given message and confirm it's the same one as above\n",
    "!sqlite3 -box {db_file} \"select id, pff_identifier from message limit 1;\""
   ]
  },
  {
   "cell_type": "code",
   "execution_count": null,
   "id": "d10e1d3b",
   "metadata": {},
   "outputs": [],
   "source": [
    "# Raw header block for that message\n",
    "!sqlite3 {db_file} \"select headers from message where id=1;\""
   ]
  },
  {
   "cell_type": "code",
   "execution_count": null,
   "id": "e0697f67",
   "metadata": {},
   "outputs": [],
   "source": [
    "# Header fields for that message\n",
    "!sqlite3 -box {db_file} \"\\\n",
    "select name, value \\\n",
    "from header_field \\\n",
    "inner join header_field_type \\\n",
    "on header_field.header_field_type_id = header_field_type.id \\\n",
    "inner join message \\\n",
    "on message.id = header_field.message_id \\\n",
    "where message.id = 1; \\\n",
    "\""
   ]
  }
 ],
 "metadata": {
  "kernelspec": {
   "display_name": "Python 3",
   "language": "python",
   "name": "python3"
  },
  "language_info": {
   "codemirror_mode": {
    "name": "ipython",
    "version": 3
   },
   "file_extension": ".py",
   "mimetype": "text/x-python",
   "name": "python",
   "nbconvert_exporter": "python",
   "pygments_lexer": "ipython3",
   "version": "3.9.7"
  }
 },
 "nbformat": 4,
 "nbformat_minor": 5
}
