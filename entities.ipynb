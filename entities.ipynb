{
 "cells": [
  {
   "cell_type": "code",
   "execution_count": null,
   "metadata": {},
   "outputs": [],
   "source": [
    "import logging\n",
    "from datetime import datetime\n",
    "from pathlib import Path\n",
    "\n",
    "from sqlalchemy import create_engine, func\n",
    "from sqlalchemy.orm import sessionmaker\n",
    "\n",
    "from tqdm import tqdm\n",
    "\n",
    "from helpers.logging import OutputWidgetHandler\n",
    "from libratom.lib.database import db_init, db_session\n",
    "from libratom.lib.entities import (\n",
    "    OUTPUT_FILENAME_TEMPLATE,\n",
    "    count_messages_in_files,\n",
    "    extract_entities,\n",
    "    load_spacy_model,\n",
    ")\n",
    "from libratom.lib.report import store_file_reports_in_db\n",
    "from libratom.models.entity import Entity\n",
    "from libratom.models.file_report import FileReport"
   ]
  },
  {
   "cell_type": "code",
   "execution_count": null,
   "metadata": {},
   "outputs": [],
   "source": [
    "logger = logging.getLogger()\n",
    "handler = OutputWidgetHandler()\n",
    "handler.setFormatter(logging.Formatter(logging.BASIC_FORMAT))\n",
    "logger.addHandler(handler)\n",
    "logger.setLevel(logging.DEBUG)"
   ]
  },
  {
   "cell_type": "code",
   "execution_count": null,
   "metadata": {},
   "outputs": [],
   "source": [
    "def print_orm_object(obj, exclude=None):\n",
    "    exclude =  exclude or []\n",
    "    \n",
    "    columns = [col.name for col in obj.__table__.columns]\n",
    "    for column in columns:\n",
    "        if not column in exclude:\n",
    "            print(f'{column}: {getattr(obj, column)}')"
   ]
  },
  {
   "cell_type": "markdown",
   "metadata": {},
   "source": [
    "### Location of input PST files"
   ]
  },
  {
   "cell_type": "code",
   "execution_count": null,
   "metadata": {},
   "outputs": [],
   "source": [
    "# Edit as appropriate\n",
    "src = Path(\"RevisedEDRMv1_Complete\")"
   ]
  },
  {
   "cell_type": "markdown",
   "metadata": {},
   "source": [
    "### Location of output database file"
   ]
  },
  {
   "cell_type": "code",
   "execution_count": null,
   "metadata": {},
   "outputs": [],
   "source": [
    "out = Path.cwd()"
   ]
  },
  {
   "cell_type": "markdown",
   "metadata": {},
   "source": [
    "### Input variables"
   ]
  },
  {
   "cell_type": "code",
   "execution_count": null,
   "metadata": {},
   "outputs": [],
   "source": [
    "spacy_model_name = 'en_core_web_sm'"
   ]
  },
  {
   "cell_type": "markdown",
   "metadata": {},
   "source": [
    "### Entity extraction"
   ]
  },
  {
   "cell_type": "code",
   "execution_count": null,
   "metadata": {},
   "outputs": [],
   "source": [
    "# Resolve output file based on src parameter\n",
    "if out.is_dir():\n",
    "    out = out / OUTPUT_FILENAME_TEMPLATE.format(\n",
    "        src.name, datetime.now().isoformat(timespec=\"seconds\")\n",
    "    )\n",
    "\n",
    "# DB setup\n",
    "Session = db_init(out)\n",
    "    \n",
    "# Get list of PST files from the source\n",
    "if src.is_dir():\n",
    "    files = set(src.glob(\"**/*.pst\"))\n",
    "else:\n",
    "    files = {src}\n",
    "\n",
    "# Compute and store file information\n",
    "with tqdm(\n",
    "    total=len(files),\n",
    "    desc=\"Retrieving file information\",\n",
    "    unit=\"files\",\n",
    "    leave=False,\n",
    ") as file_bar, db_session(Session) as session:\n",
    "    store_file_reports_in_db(files, session, jobs=4, progress_callback=file_bar.update)\n",
    "\n",
    "# Get the total number of messages\n",
    "with tqdm(\n",
    "    total=len(files),\n",
    "    desc=\"Retrieving total message count\",\n",
    "    unit=\"files\",\n",
    "    leave=False,\n",
    ") as file_bar:\n",
    "    msg_count, files = count_messages_in_files(\n",
    "        files, progress_callback=file_bar.update\n",
    "    )\n",
    "\n",
    "# Get spaCy model\n",
    "logger.info(f\"Loading spacy model: {spacy_model_name}\")\n",
    "spacy_model = load_spacy_model(spacy_model_name)\n",
    "assert spacy_model\n",
    "\n",
    "# Get messages and extract entities\n",
    "if not files:\n",
    "    logger.warning(f\"No PST file found in {src}; nothing to do\")\n",
    "else:\n",
    "    with tqdm(\n",
    "        total=msg_count, desc=\"Processing messages\", unit=\"msg\"\n",
    "    ) as msg_bar, db_session(Session) as session:\n",
    "        status = extract_entities(\n",
    "            files=files,\n",
    "            session=session,\n",
    "            spacy_model=spacy_model,\n",
    "            jobs=4,\n",
    "            progress_callback=msg_bar.update,\n",
    "        )\n"
   ]
  },
  {
   "cell_type": "markdown",
   "metadata": {},
   "source": [
    "### Post Extraction Queries"
   ]
  },
  {
   "cell_type": "code",
   "execution_count": null,
   "metadata": {},
   "outputs": [],
   "source": [
    "engine = create_engine(f\"sqlite:///{out}\")\n",
    "session = sessionmaker(bind=engine)()"
   ]
  },
  {
   "cell_type": "markdown",
   "metadata": {},
   "source": [
    "##### Total entity count"
   ]
  },
  {
   "cell_type": "code",
   "execution_count": null,
   "metadata": {},
   "outputs": [],
   "source": [
    "session.query(Entity).count()"
   ]
  },
  {
   "cell_type": "markdown",
   "metadata": {},
   "source": [
    "##### View the first 100 entities"
   ]
  },
  {
   "cell_type": "code",
   "execution_count": null,
   "metadata": {},
   "outputs": [],
   "source": [
    "for entity in session.query(Entity)[:100]:\n",
    "    print_orm_object(entity, exclude=['id', 'file_report_id', 'message_id', 'filepath'])\n",
    "    print(f'file: {entity.file_report.name}')\n",
    "    print('---')"
   ]
  },
  {
   "cell_type": "markdown",
   "metadata": {},
   "source": [
    "##### Entity count by type"
   ]
  },
  {
   "cell_type": "code",
   "execution_count": null,
   "metadata": {},
   "outputs": [],
   "source": [
    "results = session.query(Entity.label_, func.count(Entity.label_)).group_by(Entity.label_).all()\n",
    "\n",
    "for entity_type, count in results:\n",
    "    print(f'{entity_type}: {count}')"
   ]
  },
  {
   "cell_type": "markdown",
   "metadata": {},
   "source": [
    "##### Per file reports"
   ]
  },
  {
   "cell_type": "code",
   "execution_count": null,
   "metadata": {},
   "outputs": [],
   "source": [
    "file_reports = session.query(FileReport).all()\n",
    "for file_report in file_reports:\n",
    "    print_orm_object(file_report)\n",
    "    print(f'number of messages: {len(file_report.messages)}')\n",
    "    print(f'number of entities: {len(file_report.entities)}')\n",
    "    print(f'processing start time: {file_report.processing_start_time}')\n",
    "    print(f'processing end time: {file_report.processing_end_time}')\n",
    "    print(f'processing wall time: {file_report.processing_wall_time}')\n",
    "    print('---')"
   ]
  },
  {
   "cell_type": "code",
   "execution_count": null,
   "metadata": {},
   "outputs": [],
   "source": [
    "session.close()"
   ]
  },
  {
   "cell_type": "markdown",
   "metadata": {},
   "source": [
    "### Log details"
   ]
  },
  {
   "cell_type": "code",
   "execution_count": null,
   "metadata": {},
   "outputs": [],
   "source": [
    "handler.show_logs()"
   ]
  }
 ],
 "metadata": {
  "kernelspec": {
   "display_name": "Python 3",
   "language": "python",
   "name": "python3"
  },
  "language_info": {
   "codemirror_mode": {
    "name": "ipython",
    "version": 3
   },
   "file_extension": ".py",
   "mimetype": "text/x-python",
   "name": "python",
   "nbconvert_exporter": "python",
   "pygments_lexer": "ipython3",
   "version": "3.7.3"
  }
 },
 "nbformat": 4,
 "nbformat_minor": 2
}
