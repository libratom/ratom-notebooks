{
 "cells": [
  {
   "cell_type": "code",
   "execution_count": null,
   "metadata": {},
   "outputs": [],
   "source": [
    "import logging\n",
    "from datetime import datetime\n",
    "from pathlib import Path\n",
    "from tempfile import gettempdir\n",
    "\n",
    "from sqlalchemy import create_engine, func\n",
    "from sqlalchemy.orm import sessionmaker\n",
    "\n",
    "from helpers.logging import OutputWidgetHandler\n",
    "from libratom.cli.subcommands import entities, OUTPUT_FILENAME_TEMPLATE\n",
    "from libratom.lib.database import db_init, db_session\n",
    "from libratom.models import Entity, FileReport, Configuration, Attachment"
   ]
  },
  {
   "cell_type": "code",
   "execution_count": null,
   "metadata": {},
   "outputs": [],
   "source": [
    "logger = logging.getLogger()\n",
    "handler = OutputWidgetHandler()\n",
    "handler.setFormatter(logging.Formatter(logging.BASIC_FORMAT))\n",
    "logger.addHandler(handler)\n",
    "logger.setLevel(logging.INFO)"
   ]
  },
  {
   "cell_type": "code",
   "execution_count": null,
   "metadata": {},
   "outputs": [],
   "source": [
    "def print_orm_object(obj, exclude=None):\n",
    "    exclude =  exclude or []\n",
    "    \n",
    "    columns = [col.name for col in obj.__table__.columns]\n",
    "    for column in columns:\n",
    "        if not column in exclude:\n",
    "            print(f'{column}: {getattr(obj, column)}')"
   ]
  },
  {
   "cell_type": "markdown",
   "metadata": {},
   "source": [
    "### Location of input files"
   ]
  },
  {
   "cell_type": "markdown",
   "metadata": {},
   "source": [
    "Edit as appropriate"
   ]
  },
  {
   "cell_type": "code",
   "execution_count": null,
   "metadata": {},
   "outputs": [],
   "source": [
    "src = Path(\"data/RevisedEDRMv1_Complete/albert_meyers/\") # for PST files\n",
    "# src = Path(\"data/httpd-users\")  # for mbox files"
   ]
  },
  {
   "cell_type": "markdown",
   "metadata": {},
   "source": [
    "### Location of output database file"
   ]
  },
  {
   "cell_type": "code",
   "execution_count": null,
   "metadata": {},
   "outputs": [],
   "source": [
    "db_file_name = OUTPUT_FILENAME_TEMPLATE.format(\n",
    "    src.name,\n",
    "    \"entities\",\n",
    "    datetime.now()\n",
    "    .isoformat(timespec=\"seconds\")\n",
    "    .translate(str.maketrans({\"-\": \"\", \":\": \"\"})),\n",
    ")\n",
    "\n",
    "db_file_path = Path(gettempdir()) / 'ratom' / db_file_name"
   ]
  },
  {
   "cell_type": "markdown",
   "metadata": {},
   "source": [
    "### Input variables"
   ]
  },
  {
   "cell_type": "code",
   "execution_count": null,
   "metadata": {},
   "outputs": [],
   "source": [
    "spacy_model_name = 'en_core_web_sm'"
   ]
  },
  {
   "cell_type": "markdown",
   "metadata": {},
   "source": [
    "### Entity extraction"
   ]
  },
  {
   "cell_type": "code",
   "execution_count": null,
   "metadata": {
    "scrolled": true
   },
   "outputs": [],
   "source": [
    "status = entities(out=db_file_path, spacy_model_name=spacy_model_name, jobs=2, src=src, progress=False)"
   ]
  },
  {
   "cell_type": "markdown",
   "metadata": {},
   "source": [
    "### Post Extraction Queries"
   ]
  },
  {
   "cell_type": "code",
   "execution_count": null,
   "metadata": {},
   "outputs": [],
   "source": [
    "engine = create_engine(f\"sqlite:///{db_file_path}\")\n",
    "session = sessionmaker(bind=engine)()"
   ]
  },
  {
   "cell_type": "markdown",
   "metadata": {},
   "source": [
    "##### Total entity count"
   ]
  },
  {
   "cell_type": "code",
   "execution_count": null,
   "metadata": {},
   "outputs": [],
   "source": [
    "session.query(Entity).count()"
   ]
  },
  {
   "cell_type": "markdown",
   "metadata": {},
   "source": [
    "##### View the first 100 entities"
   ]
  },
  {
   "cell_type": "code",
   "execution_count": null,
   "metadata": {},
   "outputs": [],
   "source": [
    "for entity in session.query(Entity)[:100]:\n",
    "    print_orm_object(entity, exclude=['id', 'file_report_id', 'message_id', 'filepath'])\n",
    "    print(f'file: {entity.file_report.name}')\n",
    "    print(f'message id in pst file: {entity.message.pff_identifier}')\n",
    "    print('---')"
   ]
  },
  {
   "cell_type": "markdown",
   "metadata": {},
   "source": [
    "##### Entity count by type"
   ]
  },
  {
   "cell_type": "code",
   "execution_count": null,
   "metadata": {},
   "outputs": [],
   "source": [
    "results = session.query(Entity.label_, func.count(Entity.label_)).group_by(Entity.label_).all()\n",
    "\n",
    "for entity_type, count in results:\n",
    "    print(f'{entity_type}: {count}')"
   ]
  },
  {
   "cell_type": "markdown",
   "metadata": {},
   "source": [
    "##### Attachment count by type"
   ]
  },
  {
   "cell_type": "code",
   "execution_count": null,
   "metadata": {},
   "outputs": [],
   "source": [
    "results = session.query(Attachment.mime_type, func.count(Attachment.mime_type)).group_by(Attachment.mime_type).all()\n",
    "\n",
    "for mime_type, count in results:\n",
    "    print(f'{mime_type}: {count}')"
   ]
  },
  {
   "cell_type": "markdown",
   "metadata": {},
   "source": [
    "##### Per file reports"
   ]
  },
  {
   "cell_type": "code",
   "execution_count": null,
   "metadata": {},
   "outputs": [],
   "source": [
    "file_reports = session.query(FileReport).all()\n",
    "for file_report in file_reports:\n",
    "    print_orm_object(file_report)\n",
    "    print(f'number of messages: {len(file_report.messages)}')\n",
    "    print(f'number of attachments: {len(file_report.attachments)}')\n",
    "    print(f'number of entities: {len(file_report.entities)}')\n",
    "    print(f'processing start time: {file_report.processing_start_time}')\n",
    "    print(f'processing end time: {file_report.processing_end_time}')\n",
    "    print(f'processing wall time: {file_report.processing_wall_time}')\n",
    "    print('---')"
   ]
  },
  {
   "cell_type": "markdown",
   "metadata": {},
   "source": [
    "##### Configuration report"
   ]
  },
  {
   "cell_type": "code",
   "execution_count": null,
   "metadata": {
    "collapsed": false,
    "jupyter": {
     "outputs_hidden": false
    },
    "pycharm": {
     "name": "#%%\n"
    },
    "scrolled": true
   },
   "outputs": [],
   "source": [
    "for conf in session.query(Configuration).all():\n",
    "    print(f'{conf.name}: {conf.value}')"
   ]
  },
  {
   "cell_type": "code",
   "execution_count": null,
   "metadata": {},
   "outputs": [],
   "source": [
    "session.close()"
   ]
  },
  {
   "cell_type": "markdown",
   "metadata": {},
   "source": [
    "### Log details"
   ]
  },
  {
   "cell_type": "code",
   "execution_count": null,
   "metadata": {
    "pycharm": {
     "name": "#%%\n"
    }
   },
   "outputs": [],
   "source": [
    "handler.show_logs()"
   ]
  }
 ],
 "metadata": {
  "kernelspec": {
   "display_name": "Python 3",
   "language": "python",
   "name": "python3"
  },
  "language_info": {
   "codemirror_mode": {
    "name": "ipython",
    "version": 3
   },
   "file_extension": ".py",
   "mimetype": "text/x-python",
   "name": "python",
   "nbconvert_exporter": "python",
   "pygments_lexer": "ipython3",
   "version": "3.9.7"
  },
  "pycharm": {
   "stem_cell": {
    "cell_type": "raw",
    "metadata": {
     "collapsed": false
    },
    "source": []
   }
  }
 },
 "nbformat": 4,
 "nbformat_minor": 4
}
