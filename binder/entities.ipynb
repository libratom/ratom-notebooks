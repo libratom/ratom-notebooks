{
 "cells": [
  {
   "cell_type": "code",
   "execution_count": null,
   "metadata": {},
   "outputs": [],
   "source": [
    "import logging\n",
    "from datetime import datetime\n",
    "from pathlib import Path\n",
    "\n",
    "from sqlalchemy import create_engine, func\n",
    "from sqlalchemy.orm import sessionmaker\n",
    "\n",
    "from tqdm import tqdm\n",
    "\n",
    "from helpers.logging import OutputWidgetHandler\n",
    "from libratom.cli.subcommands import entities\n",
    "from libratom.lib.database import db_session\n",
    "from libratom.lib.entities import (\n",
    "    OUTPUT_FILENAME_TEMPLATE,\n",
    "    count_messages_in_files,\n",
    "    extract_entities,\n",
    "    load_spacy_model,\n",
    ")\n",
    "from libratom.models.entity import Entity"
   ]
  },
  {
   "cell_type": "code",
   "execution_count": null,
   "metadata": {},
   "outputs": [],
   "source": [
    "logger = logging.getLogger(__name__)\n",
    "handler = OutputWidgetHandler()\n",
    "handler.setFormatter(logging.Formatter(logging.BASIC_FORMAT))\n",
    "logger.addHandler(handler)\n",
    "logger.setLevel(logging.INFO)"
   ]
  },
  {
   "cell_type": "markdown",
   "metadata": {},
   "source": [
    "### Location of input PST files"
   ]
  },
  {
   "cell_type": "code",
   "execution_count": null,
   "metadata": {},
   "outputs": [],
   "source": [
    "# Edit as appropriate\n",
    "src = Path(\"../RevisedEDRMv1_Complete\")"
   ]
  },
  {
   "cell_type": "markdown",
   "metadata": {},
   "source": [
    "### Location of output database file"
   ]
  },
  {
   "cell_type": "code",
   "execution_count": null,
   "metadata": {},
   "outputs": [],
   "source": [
    "out = Path(\"/tmp/libratom\")\n",
    "out.mkdir(parents=True, exist_ok=True)"
   ]
  },
  {
   "cell_type": "markdown",
   "metadata": {},
   "source": [
    "### Input variables"
   ]
  },
  {
   "cell_type": "code",
   "execution_count": null,
   "metadata": {},
   "outputs": [],
   "source": [
    "spacy_model_name = 'en_core_web_sm'\n",
    "concurrent_jobs=4"
   ]
  },
  {
   "cell_type": "code",
   "execution_count": null,
   "metadata": {},
   "outputs": [],
   "source": [
    "# Resolve output file based on src parameter\n",
    "if out.is_dir():\n",
    "    out = out / OUTPUT_FILENAME_TEMPLATE.format(\n",
    "        src.name, datetime.now().isoformat(timespec=\"seconds\")\n",
    "    )\n",
    "\n",
    "# Get list of PST files from the source\n",
    "if src.is_dir():\n",
    "    files = set(src.glob(\"**/*.pst\"))\n",
    "else:\n",
    "    files = {src}\n",
    "\n",
    "# Get the total number of messages\n",
    "with tqdm(\n",
    "    total=len(files),\n",
    "    desc=\"Initial file scan\",\n",
    "    unit=\"files\",\n",
    "    leave=False,\n",
    ") as file_bar:\n",
    "    msg_count, files = count_messages_in_files(\n",
    "        files, progress_callback=file_bar.update\n",
    "    )\n",
    "\n",
    "# Get spaCy model\n",
    "logger.info(f\"Loading spacy model: {spacy_model_name}\")\n",
    "spacy_model = load_spacy_model(spacy_model_name)\n",
    "assert spacy_model\n",
    "\n",
    "# Get messages and extract entities\n",
    "if not files:\n",
    "    logger.warning(f\"No PST file found in {src}; nothing to do\")\n",
    "else:\n",
    "    with tqdm(\n",
    "        total=msg_count, desc=\"Processing messages\", unit=\"msg\"\n",
    "    ) as msg_bar:\n",
    "        status = extract_entities(\n",
    "            files=files,\n",
    "            destination=out,\n",
    "            spacy_model=spacy_model,\n",
    "            jobs=concurrent_jobs,\n",
    "            progress_callback=msg_bar.update,\n",
    "        )\n"
   ]
  },
  {
   "cell_type": "markdown",
   "metadata": {},
   "source": [
    "### Post Extraction Queries"
   ]
  },
  {
   "cell_type": "code",
   "execution_count": null,
   "metadata": {},
   "outputs": [],
   "source": [
    "engine = create_engine(f\"sqlite:///{out}\")\n",
    "session = sessionmaker(bind=engine)()"
   ]
  },
  {
   "cell_type": "markdown",
   "metadata": {},
   "source": [
    "##### Total entity count"
   ]
  },
  {
   "cell_type": "code",
   "execution_count": null,
   "metadata": {},
   "outputs": [],
   "source": [
    "session.query(Entity).count()"
   ]
  },
  {
   "cell_type": "markdown",
   "metadata": {},
   "source": [
    "##### View the first 10 entities"
   ]
  },
  {
   "cell_type": "code",
   "execution_count": null,
   "metadata": {},
   "outputs": [],
   "source": [
    "for entity in session.query(Entity)[:10]:\n",
    "    print(entity)"
   ]
  },
  {
   "cell_type": "markdown",
   "metadata": {},
   "source": [
    "##### Entity count by type"
   ]
  },
  {
   "cell_type": "code",
   "execution_count": null,
   "metadata": {},
   "outputs": [],
   "source": [
    "results = session.query(Entity.label_, func.count(Entity.label_)).group_by(Entity.label_).all()\n",
    "\n",
    "for entity_type, count in results:\n",
    "    print(f'{entity_type}: {count}')"
   ]
  },
  {
   "cell_type": "code",
   "execution_count": null,
   "metadata": {},
   "outputs": [],
   "source": [
    "session.close()"
   ]
  }
 ],
 "metadata": {
  "kernelspec": {
   "display_name": "Python 3",
   "language": "python",
   "name": "python3"
  },
  "language_info": {
   "codemirror_mode": {
    "name": "ipython",
    "version": 3
   },
   "file_extension": ".py",
   "mimetype": "text/x-python",
   "name": "python",
   "nbconvert_exporter": "python",
   "pygments_lexer": "ipython3",
   "version": "3.7.3"
  }
 },
 "nbformat": 4,
 "nbformat_minor": 2
}
