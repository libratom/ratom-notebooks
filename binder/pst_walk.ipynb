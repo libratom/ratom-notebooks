{
 "cells": [
  {
   "cell_type": "markdown",
   "metadata": {},
   "source": [
    "### Populate namespace with imports, functions and globals"
   ]
  },
  {
   "cell_type": "code",
   "execution_count": null,
   "metadata": {},
   "outputs": [],
   "source": [
    "%run boilerplate.ipynb"
   ]
  },
  {
   "cell_type": "markdown",
   "metadata": {},
   "source": [
    "### Location of PST files"
   ]
  },
  {
   "cell_type": "code",
   "execution_count": null,
   "metadata": {},
   "outputs": [],
   "source": [
    "# Edit as appropriate\n",
    "CACHED_ENRON_DATA_DIR = Path(\"../RevisedEDRMv1_Complete\")\n",
    "\n",
    "# Generate the list of files to know how many there are\n",
    "files = list(CACHED_ENRON_DATA_DIR.glob('**/*.pst'))"
   ]
  },
  {
   "cell_type": "markdown",
   "metadata": {},
   "source": [
    "### Initialize progress and report widgets"
   ]
  },
  {
   "cell_type": "code",
   "execution_count": null,
   "metadata": {},
   "outputs": [],
   "source": [
    "# Progress bar for number of files processed\n",
    "progress = widgets.IntProgress(\n",
    "    value=0,\n",
    "    min=0,\n",
    "    max=len(files),\n",
    "    step=1,\n",
    "    description='Progress:',\n",
    "    bar_style='',\n",
    "    orientation='horizontal'\n",
    ")\n",
    "\n",
    "# Container for the report\n",
    "output = widgets.Output()"
   ]
  },
  {
   "cell_type": "markdown",
   "metadata": {},
   "source": [
    "### Iterate over the PST files and do work"
   ]
  },
  {
   "cell_type": "code",
   "execution_count": null,
   "metadata": {},
   "outputs": [],
   "source": [
    "handler.clear_logs()\n",
    "\n",
    "# Overall report\n",
    "report = {'Files': 0, 'Messages': 0, 'Attachments': 0, 'Size': 0, 'Errors': 0}\n",
    "\n",
    "# Start displaying results\n",
    "display(Box(children=[output, progress], layout=report_box_layout))\n",
    "\n",
    "# Iterate over files\n",
    "for pst_file in files:\n",
    "    try:\n",
    "        # Iterate over messages\n",
    "        with PffArchive(pst_file) as archive:\n",
    "            for message in archive.messages():\n",
    "                try:\n",
    "                    # Do something with the message...\n",
    "                    _ = archive.format_message(message)\n",
    "\n",
    "                    # Update report\n",
    "                    report['Messages'] += 1\n",
    "                    report['Attachments'] += message.number_of_attachments\n",
    "\n",
    "                    # Refresh report widget every 100 messages\n",
    "                    if not report['Messages'] % 100:\n",
    "                        update(output, report)\n",
    "\n",
    "                except Exception as exc:\n",
    "                    # Log error and move on to the next message\n",
    "                    report['Errors'] += 1\n",
    "                    logger.exception(exc)\n",
    "\n",
    "    except Exception as exc:\n",
    "        # Log error and move on to the next file\n",
    "        report['Errors'] += 1\n",
    "        logger.exception(exc)\n",
    "    \n",
    "    # Update progress bar\n",
    "    progress.value += 1\n",
    "    \n",
    "    # Update report\n",
    "    report['Files'] += 1    \n",
    "    report['Size'] += pst_file.stat().st_size\n",
    "    \n",
    "    # Refresh report widget\n",
    "    update(output, report)"
   ]
  },
  {
   "cell_type": "code",
   "execution_count": null,
   "metadata": {},
   "outputs": [],
   "source": [
    "# Print out errors, if any \n",
    "handler.show_logs()"
   ]
  }
 ],
 "metadata": {
  "kernelspec": {
   "display_name": "Python 3",
   "language": "python",
   "name": "python3"
  },
  "language_info": {
   "codemirror_mode": {
    "name": "ipython",
    "version": 3
   },
   "file_extension": ".py",
   "mimetype": "text/x-python",
   "name": "python",
   "nbconvert_exporter": "python",
   "pygments_lexer": "ipython3",
   "version": "3.7.3"
  }
 },
 "nbformat": 4,
 "nbformat_minor": 2
}
