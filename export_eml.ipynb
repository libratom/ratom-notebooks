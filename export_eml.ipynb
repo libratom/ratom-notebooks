{
 "cells": [
  {
   "cell_type": "code",
   "execution_count": null,
   "metadata": {},
   "outputs": [],
   "source": [
    "from email import policy\n",
    "from email.generator import Generator\n",
    "from email.message import Message\n",
    "from email.parser import Parser\n",
    "from pathlib import Path\n",
    "from tempfile import gettempdir\n",
    "from typing import Iterable\n",
    "\n",
    "import libratom\n",
    "import pypff\n",
    "from libratom.lib import MboxArchive\n",
    "from libratom.lib.base import Archive\n",
    "from libratom.lib.core import open_mail_archive"
   ]
  },
  {
   "cell_type": "code",
   "execution_count": null,
   "metadata": {},
   "outputs": [],
   "source": [
    "libratom.__version__"
   ]
  },
  {
   "cell_type": "markdown",
   "metadata": {},
   "source": [
    "### Input file and output folder\n",
    "(Edit as necessary)"
   ]
  },
  {
   "cell_type": "code",
   "execution_count": null,
   "metadata": {},
   "outputs": [],
   "source": [
    "# Relative paths for mybinder\n",
    "pst_file = Path('RevisedEDRMv1_Complete/andrea_ring/andrea_ring_000_1_1.pst')\n",
    "\n",
    "output_folder = Path(f'{pst_file.stem}_eml_files')\n",
    "output_folder.mkdir(parents=True, exist_ok=True)"
   ]
  },
  {
   "cell_type": "markdown",
   "metadata": {},
   "source": [
    "### List of file IDs\n",
    "(Edit as necessary)"
   ]
  },
  {
   "cell_type": "code",
   "execution_count": null,
   "metadata": {},
   "outputs": [],
   "source": [
    "# Export messages for an arbitrary list of IDs\n",
    "# message_ids = [2127428, 2127460, 2127492, 2127524]\n",
    "\n",
    "# Export all messages\n",
    "with open_mail_archive(pst_file) as archive:\n",
    "    message_ids = [message.identifier for message in archive.messages()]"
   ]
  },
  {
   "cell_type": "markdown",
   "metadata": {},
   "source": [
    "### Utility functions"
   ]
  },
  {
   "cell_type": "code",
   "execution_count": null,
   "metadata": {},
   "outputs": [],
   "source": [
    "def pff_msg_to_string(message: pypff.message) -> str:\n",
    "    \"\"\"\n",
    "    Serializes a pff.message object to a string\n",
    "    \"\"\"\n",
    "\n",
    "    headers = message.transport_headers or \"\"\n",
    "    body = message.plain_text_body or \"\"\n",
    "    \n",
    "    if isinstance(body, bytes):\n",
    "        body = str(body, encoding=\"utf-8\", errors=\"replace\")\n",
    "\n",
    "    return f\"{headers.strip()}\\r\\n\\r\\n{body.strip()}\""
   ]
  },
  {
   "cell_type": "code",
   "execution_count": null,
   "metadata": {},
   "outputs": [],
   "source": [
    "def extract_message_from_archive(archive: Archive, msg_id: int) -> Message:\n",
    "    \"\"\"\n",
    "    Extracts a message from an open Archive object\n",
    "    \"\"\"\n",
    "    \n",
    "    msg = archive.get_message_by_id(msg_id)\n",
    "    \n",
    "    # mbox archive\n",
    "    if isinstance(archive, MboxArchive):\n",
    "        return msg\n",
    "\n",
    "    # pst archive\n",
    "    return Parser(policy=policy.default).parsestr(pff_msg_to_string(msg))\n",
    "    "
   ]
  },
  {
   "cell_type": "code",
   "execution_count": null,
   "metadata": {},
   "outputs": [],
   "source": [
    "def export_messages_from_file(src_file: Path, msg_ids: Iterable[int], dest_folder: Path = Path.cwd()) -> None:\n",
    "    \"\"\"\n",
    "    Writes .eml files in a destination directory given a mailbox file (PST or mbox) and a list of message IDs\n",
    "    \"\"\"\n",
    "    \n",
    "    with open_mail_archive(src_file) as archive:\n",
    "        for id in msg_ids:\n",
    "            msg = extract_message_from_archive(archive, id)\n",
    "            \n",
    "            with (dest_folder / f'{id}.eml').open(mode='w') as eml_file:\n",
    "                Generator(eml_file).flatten(msg)"
   ]
  },
  {
   "cell_type": "markdown",
   "metadata": {},
   "source": [
    "### Test run"
   ]
  },
  {
   "cell_type": "code",
   "execution_count": null,
   "metadata": {
    "scrolled": true
   },
   "outputs": [],
   "source": [
    "export_messages_from_file(pst_file, message_ids, output_folder)"
   ]
  }
 ],
 "metadata": {
  "kernelspec": {
   "display_name": "Python 3",
   "language": "python",
   "name": "python3"
  },
  "language_info": {
   "codemirror_mode": {
    "name": "ipython",
    "version": 3
   },
   "file_extension": ".py",
   "mimetype": "text/x-python",
   "name": "python",
   "nbconvert_exporter": "python",
   "pygments_lexer": "ipython3",
   "version": "3.7.3"
  }
 },
 "nbformat": 4,
 "nbformat_minor": 4
}
