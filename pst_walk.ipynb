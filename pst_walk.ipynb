{
 "cells": [
  {
   "cell_type": "markdown",
   "metadata": {},
   "source": [
    "### Dependencies and logging"
   ]
  },
  {
   "cell_type": "code",
   "execution_count": null,
   "metadata": {},
   "outputs": [],
   "source": [
    "import logging\n",
    "from pathlib import Path\n",
    "\n",
    "import humanfriendly\n",
    "import ipywidgets as widgets\n",
    "import pandas as pd\n",
    "from IPython.display import display\n",
    "from tqdm import tqdm\n",
    "\n",
    "from helpers.logging import OutputWidgetHandler\n",
    "from libratom.lib.pff import PffArchive"
   ]
  },
  {
   "cell_type": "code",
   "execution_count": null,
   "metadata": {},
   "outputs": [],
   "source": [
    "logger = logging.getLogger(__name__)\n",
    "handler = OutputWidgetHandler()\n",
    "handler.setFormatter(logging.Formatter(logging.BASIC_FORMAT))\n",
    "logger.addHandler(handler)\n",
    "logger.setLevel(logging.INFO)"
   ]
  },
  {
   "cell_type": "markdown",
   "metadata": {},
   "source": [
    "### Location of PST files"
   ]
  },
  {
   "cell_type": "code",
   "execution_count": null,
   "metadata": {},
   "outputs": [],
   "source": [
    "# Edit as appropriate\n",
    "CACHED_ENRON_DATA_DIR = Path(\"RevisedEDRMv1_Complete\")\n",
    "\n",
    "# Generate the list of files to know how many there are\n",
    "files = sorted(CACHED_ENRON_DATA_DIR.glob('**/*.pst'))"
   ]
  },
  {
   "cell_type": "markdown",
   "metadata": {},
   "source": [
    "### Report widget"
   ]
  },
  {
   "cell_type": "code",
   "execution_count": null,
   "metadata": {},
   "outputs": [],
   "source": [
    "# Container for the report\n",
    "output = widgets.Output()"
   ]
  },
  {
   "cell_type": "code",
   "execution_count": null,
   "metadata": {},
   "outputs": [],
   "source": [
    "def update(out, data):\n",
    "    \"\"\"Refreshes the report output widget\n",
    "    \"\"\"\n",
    "\n",
    "    out.clear_output(wait=True)\n",
    "    \n",
    "    df_data = {key: [value] for key, value in data.items()}\n",
    "    df_data['Size'] = [humanfriendly.format_size(data['Size'])]\n",
    "    \n",
    "    with out:\n",
    "        display(pd.DataFrame(df_data, index=['Total']) )"
   ]
  },
  {
   "cell_type": "markdown",
   "metadata": {},
   "source": [
    "### Iterate over the PST files and do work"
   ]
  },
  {
   "cell_type": "code",
   "execution_count": null,
   "metadata": {},
   "outputs": [],
   "source": [
    "handler.clear_logs()\n",
    "\n",
    "# Overall report\n",
    "report = {'Files': 0, 'Messages': 0, 'Attachments': 0, 'Size': 0, 'Errors': 0}\n",
    "\n",
    "# Start displaying results\n",
    "display(output)\n",
    "\n",
    "\n",
    "# Iterate over files\n",
    "with tqdm(total=len(files), desc=\"Files read\", unit=\"files\", leave=True) as file_bar:\n",
    "    for pst_file in files:\n",
    "        try:\n",
    "            # Iterate over messages\n",
    "            with PffArchive(pst_file) as archive:\n",
    "                for message in archive.messages():\n",
    "                    try:\n",
    "                        # Do something with the message...\n",
    "                        _ = archive.format_message(message)\n",
    "\n",
    "                        # Update report\n",
    "                        report['Messages'] += 1\n",
    "                        report['Attachments'] += message.number_of_attachments\n",
    "\n",
    "                        # Refresh report widget every 100 messages\n",
    "                        if not report['Messages'] % 100:\n",
    "                            update(output, report)\n",
    "\n",
    "                    except Exception as exc:\n",
    "                        # Log error and move on to the next message\n",
    "                        report['Errors'] += 1\n",
    "                        logger.exception(exc)\n",
    "\n",
    "        except Exception as exc:\n",
    "            # Log error and move on to the next file\n",
    "            report['Errors'] += 1\n",
    "            logger.exception(exc)\n",
    "\n",
    "        # Update progress bar\n",
    "        file_bar.update()\n",
    "\n",
    "        # Update report\n",
    "        report['Files'] += 1    \n",
    "        report['Size'] += pst_file.stat().st_size\n",
    "\n",
    "        # Refresh report widget\n",
    "        update(output, report)"
   ]
  },
  {
   "cell_type": "code",
   "execution_count": null,
   "metadata": {},
   "outputs": [],
   "source": [
    "# Print out errors, if any \n",
    "handler.show_logs()"
   ]
  }
 ],
 "metadata": {
  "kernelspec": {
   "display_name": "Python 3",
   "language": "python",
   "name": "python3"
  },
  "language_info": {
   "codemirror_mode": {
    "name": "ipython",
    "version": 3
   },
   "file_extension": ".py",
   "mimetype": "text/x-python",
   "name": "python",
   "nbconvert_exporter": "python",
   "pygments_lexer": "ipython3",
   "version": "3.7.3"
  }
 },
 "nbformat": 4,
 "nbformat_minor": 2
}
